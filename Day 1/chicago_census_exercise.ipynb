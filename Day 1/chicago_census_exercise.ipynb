{
 "cells": [
  {
   "cell_type": "code",
   "execution_count": 1,
   "id": "e6128cdb",
   "metadata": {},
   "outputs": [],
   "source": [
    "import pandas as pd\n",
    "import numpy as np\n",
    "import pickle\n",
    "import os\n",
    "import matplotlib.pyplot as plt\n"
   ]
  },
  {
   "cell_type": "code",
   "execution_count": 3,
   "id": "7e44b95c",
   "metadata": {},
   "outputs": [],
   "source": [
    "chicago_census = pd.read_csv(\"D:\\Python\\data\\chicago_census.csv\")"
   ]
  },
  {
   "cell_type": "code",
   "execution_count": 4,
   "id": "f2524e57",
   "metadata": {},
   "outputs": [
    {
     "data": {
      "text/html": [
       "<div>\n",
       "<style scoped>\n",
       "    .dataframe tbody tr th:only-of-type {\n",
       "        vertical-align: middle;\n",
       "    }\n",
       "\n",
       "    .dataframe tbody tr th {\n",
       "        vertical-align: top;\n",
       "    }\n",
       "\n",
       "    .dataframe thead th {\n",
       "        text-align: right;\n",
       "    }\n",
       "</style>\n",
       "<table border=\"1\" class=\"dataframe\">\n",
       "  <thead>\n",
       "    <tr style=\"text-align: right;\">\n",
       "      <th></th>\n",
       "      <th>Community Area Number</th>\n",
       "      <th>COMMUNITY AREA NAME</th>\n",
       "      <th>PERCENT OF HOUSING CROWDED</th>\n",
       "      <th>PERCENT HOUSEHOLDS BELOW POVERTY</th>\n",
       "      <th>PERCENT AGED 16+ UNEMPLOYED</th>\n",
       "      <th>PERCENT AGED 25+ WITHOUT HIGH SCHOOL DIPLOMA</th>\n",
       "      <th>PERCENT AGED UNDER 18 OR OVER 64</th>\n",
       "      <th>PER CAPITA INCOME</th>\n",
       "      <th>HARDSHIP INDEX</th>\n",
       "    </tr>\n",
       "  </thead>\n",
       "  <tbody>\n",
       "    <tr>\n",
       "      <th>0</th>\n",
       "      <td>1.0</td>\n",
       "      <td>Rogers Park</td>\n",
       "      <td>7.7</td>\n",
       "      <td>23.6</td>\n",
       "      <td>8.7</td>\n",
       "      <td>18.2</td>\n",
       "      <td>27.5</td>\n",
       "      <td>23939</td>\n",
       "      <td>39.0</td>\n",
       "    </tr>\n",
       "    <tr>\n",
       "      <th>1</th>\n",
       "      <td>2.0</td>\n",
       "      <td>West Ridge</td>\n",
       "      <td>7.8</td>\n",
       "      <td>17.2</td>\n",
       "      <td>8.8</td>\n",
       "      <td>20.8</td>\n",
       "      <td>38.5</td>\n",
       "      <td>23040</td>\n",
       "      <td>46.0</td>\n",
       "    </tr>\n",
       "    <tr>\n",
       "      <th>2</th>\n",
       "      <td>3.0</td>\n",
       "      <td>Uptown</td>\n",
       "      <td>3.8</td>\n",
       "      <td>24.0</td>\n",
       "      <td>8.9</td>\n",
       "      <td>11.8</td>\n",
       "      <td>22.2</td>\n",
       "      <td>35787</td>\n",
       "      <td>20.0</td>\n",
       "    </tr>\n",
       "    <tr>\n",
       "      <th>3</th>\n",
       "      <td>4.0</td>\n",
       "      <td>Lincoln Square</td>\n",
       "      <td>3.4</td>\n",
       "      <td>10.9</td>\n",
       "      <td>8.2</td>\n",
       "      <td>13.4</td>\n",
       "      <td>25.5</td>\n",
       "      <td>37524</td>\n",
       "      <td>17.0</td>\n",
       "    </tr>\n",
       "    <tr>\n",
       "      <th>4</th>\n",
       "      <td>5.0</td>\n",
       "      <td>North Center</td>\n",
       "      <td>0.3</td>\n",
       "      <td>7.5</td>\n",
       "      <td>5.2</td>\n",
       "      <td>4.5</td>\n",
       "      <td>26.2</td>\n",
       "      <td>57123</td>\n",
       "      <td>6.0</td>\n",
       "    </tr>\n",
       "  </tbody>\n",
       "</table>\n",
       "</div>"
      ],
      "text/plain": [
       "   Community Area Number COMMUNITY AREA NAME  PERCENT OF HOUSING CROWDED  \\\n",
       "0                    1.0         Rogers Park                         7.7   \n",
       "1                    2.0          West Ridge                         7.8   \n",
       "2                    3.0              Uptown                         3.8   \n",
       "3                    4.0      Lincoln Square                         3.4   \n",
       "4                    5.0        North Center                         0.3   \n",
       "\n",
       "   PERCENT HOUSEHOLDS BELOW POVERTY  PERCENT AGED 16+ UNEMPLOYED  \\\n",
       "0                              23.6                          8.7   \n",
       "1                              17.2                          8.8   \n",
       "2                              24.0                          8.9   \n",
       "3                              10.9                          8.2   \n",
       "4                               7.5                          5.2   \n",
       "\n",
       "   PERCENT AGED 25+ WITHOUT HIGH SCHOOL DIPLOMA  \\\n",
       "0                                          18.2   \n",
       "1                                          20.8   \n",
       "2                                          11.8   \n",
       "3                                          13.4   \n",
       "4                                           4.5   \n",
       "\n",
       "   PERCENT AGED UNDER 18 OR OVER 64  PER CAPITA INCOME   HARDSHIP INDEX  \n",
       "0                              27.5               23939            39.0  \n",
       "1                              38.5               23040            46.0  \n",
       "2                              22.2               35787            20.0  \n",
       "3                              25.5               37524            17.0  \n",
       "4                              26.2               57123             6.0  "
      ]
     },
     "execution_count": 4,
     "metadata": {},
     "output_type": "execute_result"
    }
   ],
   "source": [
    "chicago_census.head()"
   ]
  },
  {
   "cell_type": "code",
   "execution_count": 6,
   "id": "22bbb927",
   "metadata": {},
   "outputs": [],
   "source": [
    "chicago_census.rename(columns={'Community Area Number': 'community_number',\n",
    "                               'COMMUNITY AREA NAME': 'community_area' , \n",
    "                               'PERCENT OF HOUSING CROWDED': 'percent_house_crowded', \n",
    "                               'PERCENT HOUSEHOLDS BELOW POVERTY': 'percent_house_below_poverty', \n",
    "                               'PERCENT AGED 16+ UNEMPLOYED': 'percent_16_unemployed' , \n",
    "                               'PERCENT AGED 25+ WITHOUT HIGH SCHOOL DIPLOMA': 'percent_25_without_diploma', \n",
    "                               'PERCENT AGED UNDER 18 OR OVER 64': 'percent_dependent', \n",
    "                               'PER CAPITA INCOME ' : 'per_capita_income',\n",
    "                               'HARDSHIP INDEX': 'hardship_index'}, inplace=True)"
   ]
  },
  {
   "cell_type": "code",
   "execution_count": 10,
   "id": "f9c0196d",
   "metadata": {},
   "outputs": [
    {
     "data": {
      "text/plain": [
       "Index(['community_number', 'community_area', 'percent_house_crowded',\n",
       "       'percent_house_below_poverty', 'percent_16_unemployed',\n",
       "       'percent_25_without_diploma', 'percent_dependent', 'per_capita_income',\n",
       "       'hardship_index'],\n",
       "      dtype='object')"
      ]
     },
     "execution_count": 10,
     "metadata": {},
     "output_type": "execute_result"
    }
   ],
   "source": [
    "chicago_census.columns"
   ]
  },
  {
   "cell_type": "code",
   "execution_count": null,
   "id": "84682ed2",
   "metadata": {},
   "outputs": [],
   "source": [
    "chicago_census = chicago_census.drop(chicago_census[['community_number', 'community_area']], axis = 1)"
   ]
  },
  {
   "cell_type": "code",
   "execution_count": 17,
   "id": "e794b849",
   "metadata": {},
   "outputs": [
    {
     "data": {
      "text/plain": [
       "percent_house_crowded          0\n",
       "percent_house_below_poverty    0\n",
       "percent_16_unemployed          0\n",
       "percent_25_without_diploma     0\n",
       "percent_dependent              0\n",
       "per_capita_income              0\n",
       "hardship_index                 1\n",
       "dtype: int64"
      ]
     },
     "execution_count": 17,
     "metadata": {},
     "output_type": "execute_result"
    }
   ],
   "source": [
    "chicago_census.isnull().sum()"
   ]
  },
  {
   "cell_type": "code",
   "execution_count": 18,
   "id": "1293869f",
   "metadata": {},
   "outputs": [],
   "source": [
    "chicago_census['hardship_index'] = chicago_census['hardship_index'].fillna(chicago_census['hardship_index'].mean())"
   ]
  },
  {
   "cell_type": "code",
   "execution_count": 19,
   "id": "a1928be8",
   "metadata": {},
   "outputs": [
    {
     "data": {
      "text/plain": [
       "percent_house_crowded          0\n",
       "percent_house_below_poverty    0\n",
       "percent_16_unemployed          0\n",
       "percent_25_without_diploma     0\n",
       "percent_dependent              0\n",
       "per_capita_income              0\n",
       "hardship_index                 0\n",
       "dtype: int64"
      ]
     },
     "execution_count": 19,
     "metadata": {},
     "output_type": "execute_result"
    }
   ],
   "source": [
    "chicago_census.isnull().sum()"
   ]
  },
  {
   "cell_type": "code",
   "execution_count": 25,
   "id": "e511b6aa",
   "metadata": {},
   "outputs": [],
   "source": [
    "# Define per_capita_income mean.\n",
    "mean_per_capita_income = chicago_census['per_capita_income'].mean()\n",
    "chicago_census['per_capita_income'] = np.where(chicago_census['per_capita_income'] < mean_per_capita_income, 0, 1)\n",
    "ex_viz = chicago_census"
   ]
  },
  {
   "cell_type": "code",
   "execution_count": null,
   "id": "71818f2c",
   "metadata": {},
   "outputs": [],
   "source": []
  },
  {
   "cell_type": "code",
   "execution_count": 26,
   "id": "7773892a",
   "metadata": {},
   "outputs": [],
   "source": [
    "# Creating Pickle for cleaned data frame\n",
    "\n",
    "pickle.dump(ex_viz, open(\"ex_viz.sav\",\"wb\" ))"
   ]
  },
  {
   "cell_type": "code",
   "execution_count": 27,
   "id": "ef541dce",
   "metadata": {},
   "outputs": [],
   "source": [
    "# Group data by `per_capita_income` variable.\n",
    "\n",
    "ex_grouped = ex_viz.groupby('per_capita_income')"
   ]
  },
  {
   "cell_type": "code",
   "execution_count": 29,
   "id": "2e85c521",
   "metadata": {},
   "outputs": [
    {
     "data": {
      "text/html": [
       "<div>\n",
       "<style scoped>\n",
       "    .dataframe tbody tr th:only-of-type {\n",
       "        vertical-align: middle;\n",
       "    }\n",
       "\n",
       "    .dataframe tbody tr th {\n",
       "        vertical-align: top;\n",
       "    }\n",
       "\n",
       "    .dataframe thead th {\n",
       "        text-align: right;\n",
       "    }\n",
       "</style>\n",
       "<table border=\"1\" class=\"dataframe\">\n",
       "  <thead>\n",
       "    <tr style=\"text-align: right;\">\n",
       "      <th></th>\n",
       "      <th>percent_house_crowded</th>\n",
       "      <th>percent_house_below_poverty</th>\n",
       "      <th>percent_16_unemployed</th>\n",
       "      <th>percent_25_without_diploma</th>\n",
       "      <th>percent_dependent</th>\n",
       "      <th>hardship_index</th>\n",
       "    </tr>\n",
       "    <tr>\n",
       "      <th>per_capita_income</th>\n",
       "      <th></th>\n",
       "      <th></th>\n",
       "      <th></th>\n",
       "      <th></th>\n",
       "      <th></th>\n",
       "      <th></th>\n",
       "    </tr>\n",
       "  </thead>\n",
       "  <tbody>\n",
       "    <tr>\n",
       "      <th>0</th>\n",
       "      <td>6.288000</td>\n",
       "      <td>26.780000</td>\n",
       "      <td>18.810000</td>\n",
       "      <td>26.092000</td>\n",
       "      <td>38.834000</td>\n",
       "      <td>66.640000</td>\n",
       "    </tr>\n",
       "    <tr>\n",
       "      <th>1</th>\n",
       "      <td>2.478571</td>\n",
       "      <td>12.739286</td>\n",
       "      <td>9.146429</td>\n",
       "      <td>10.042857</td>\n",
       "      <td>30.153571</td>\n",
       "      <td>18.910946</td>\n",
       "    </tr>\n",
       "  </tbody>\n",
       "</table>\n",
       "</div>"
      ],
      "text/plain": [
       "                   percent_house_crowded  percent_house_below_poverty  \\\n",
       "per_capita_income                                                       \n",
       "0                               6.288000                    26.780000   \n",
       "1                               2.478571                    12.739286   \n",
       "\n",
       "                   percent_16_unemployed  percent_25_without_diploma  \\\n",
       "per_capita_income                                                      \n",
       "0                              18.810000                   26.092000   \n",
       "1                               9.146429                   10.042857   \n",
       "\n",
       "                   percent_dependent  hardship_index  \n",
       "per_capita_income                                     \n",
       "0                          38.834000       66.640000  \n",
       "1                          30.153571       18.910946  "
      ]
     },
     "execution_count": 29,
     "metadata": {},
     "output_type": "execute_result"
    }
   ],
   "source": [
    "# Compute mean on the listed variables using the grouped data.\n",
    "\n",
    "ex_grouped_mean = ex_grouped.mean()[['percent_house_crowded','percent_house_below_poverty','percent_16_unemployed','percent_25_without_diploma','percent_dependent','hardship_index']]\n",
    "ex_grouped_mean"
   ]
  },
  {
   "cell_type": "code",
   "execution_count": 30,
   "id": "93a66c50",
   "metadata": {},
   "outputs": [
    {
     "data": {
      "text/html": [
       "<div>\n",
       "<style scoped>\n",
       "    .dataframe tbody tr th:only-of-type {\n",
       "        vertical-align: middle;\n",
       "    }\n",
       "\n",
       "    .dataframe tbody tr th {\n",
       "        vertical-align: top;\n",
       "    }\n",
       "\n",
       "    .dataframe thead th {\n",
       "        text-align: right;\n",
       "    }\n",
       "</style>\n",
       "<table border=\"1\" class=\"dataframe\">\n",
       "  <thead>\n",
       "    <tr style=\"text-align: right;\">\n",
       "      <th></th>\n",
       "      <th>per_capita_income</th>\n",
       "      <th>percent_house_crowded</th>\n",
       "      <th>percent_house_below_poverty</th>\n",
       "      <th>percent_16_unemployed</th>\n",
       "      <th>percent_25_without_diploma</th>\n",
       "      <th>percent_dependent</th>\n",
       "      <th>hardship_index</th>\n",
       "    </tr>\n",
       "  </thead>\n",
       "  <tbody>\n",
       "    <tr>\n",
       "      <th>0</th>\n",
       "      <td>0</td>\n",
       "      <td>6.288000</td>\n",
       "      <td>26.780000</td>\n",
       "      <td>18.810000</td>\n",
       "      <td>26.092000</td>\n",
       "      <td>38.834000</td>\n",
       "      <td>66.640000</td>\n",
       "    </tr>\n",
       "    <tr>\n",
       "      <th>1</th>\n",
       "      <td>1</td>\n",
       "      <td>2.478571</td>\n",
       "      <td>12.739286</td>\n",
       "      <td>9.146429</td>\n",
       "      <td>10.042857</td>\n",
       "      <td>30.153571</td>\n",
       "      <td>18.910946</td>\n",
       "    </tr>\n",
       "  </tbody>\n",
       "</table>\n",
       "</div>"
      ],
      "text/plain": [
       "   per_capita_income  percent_house_crowded  percent_house_below_poverty  \\\n",
       "0                  0               6.288000                    26.780000   \n",
       "1                  1               2.478571                    12.739286   \n",
       "\n",
       "   percent_16_unemployed  percent_25_without_diploma  percent_dependent  \\\n",
       "0              18.810000                   26.092000          38.834000   \n",
       "1               9.146429                   10.042857          30.153571   \n",
       "\n",
       "   hardship_index  \n",
       "0       66.640000  \n",
       "1       18.910946  "
      ]
     },
     "execution_count": 30,
     "metadata": {},
     "output_type": "execute_result"
    }
   ],
   "source": [
    "ex_grouped_mean = ex_grouped.mean().reset_index()\n",
    "ex_grouped_mean #wide range"
   ]
  },
  {
   "cell_type": "code",
   "execution_count": 32,
   "id": "f7522f9b",
   "metadata": {},
   "outputs": [
    {
     "data": {
      "text/html": [
       "<div>\n",
       "<style scoped>\n",
       "    .dataframe tbody tr th:only-of-type {\n",
       "        vertical-align: middle;\n",
       "    }\n",
       "\n",
       "    .dataframe tbody tr th {\n",
       "        vertical-align: top;\n",
       "    }\n",
       "\n",
       "    .dataframe thead th {\n",
       "        text-align: right;\n",
       "    }\n",
       "</style>\n",
       "<table border=\"1\" class=\"dataframe\">\n",
       "  <thead>\n",
       "    <tr style=\"text-align: right;\">\n",
       "      <th></th>\n",
       "      <th>variable</th>\n",
       "      <th>value</th>\n",
       "    </tr>\n",
       "  </thead>\n",
       "  <tbody>\n",
       "    <tr>\n",
       "      <th>0</th>\n",
       "      <td>per_capita_income</td>\n",
       "      <td>0.000000</td>\n",
       "    </tr>\n",
       "    <tr>\n",
       "      <th>1</th>\n",
       "      <td>per_capita_income</td>\n",
       "      <td>1.000000</td>\n",
       "    </tr>\n",
       "    <tr>\n",
       "      <th>2</th>\n",
       "      <td>percent_house_crowded</td>\n",
       "      <td>6.288000</td>\n",
       "    </tr>\n",
       "    <tr>\n",
       "      <th>3</th>\n",
       "      <td>percent_house_crowded</td>\n",
       "      <td>2.478571</td>\n",
       "    </tr>\n",
       "    <tr>\n",
       "      <th>4</th>\n",
       "      <td>percent_house_below_poverty</td>\n",
       "      <td>26.780000</td>\n",
       "    </tr>\n",
       "    <tr>\n",
       "      <th>5</th>\n",
       "      <td>percent_house_below_poverty</td>\n",
       "      <td>12.739286</td>\n",
       "    </tr>\n",
       "    <tr>\n",
       "      <th>6</th>\n",
       "      <td>percent_16_unemployed</td>\n",
       "      <td>18.810000</td>\n",
       "    </tr>\n",
       "    <tr>\n",
       "      <th>7</th>\n",
       "      <td>percent_16_unemployed</td>\n",
       "      <td>9.146429</td>\n",
       "    </tr>\n",
       "    <tr>\n",
       "      <th>8</th>\n",
       "      <td>percent_25_without_diploma</td>\n",
       "      <td>26.092000</td>\n",
       "    </tr>\n",
       "    <tr>\n",
       "      <th>9</th>\n",
       "      <td>percent_25_without_diploma</td>\n",
       "      <td>10.042857</td>\n",
       "    </tr>\n",
       "    <tr>\n",
       "      <th>10</th>\n",
       "      <td>percent_dependent</td>\n",
       "      <td>38.834000</td>\n",
       "    </tr>\n",
       "    <tr>\n",
       "      <th>11</th>\n",
       "      <td>percent_dependent</td>\n",
       "      <td>30.153571</td>\n",
       "    </tr>\n",
       "    <tr>\n",
       "      <th>12</th>\n",
       "      <td>hardship_index</td>\n",
       "      <td>66.640000</td>\n",
       "    </tr>\n",
       "    <tr>\n",
       "      <th>13</th>\n",
       "      <td>hardship_index</td>\n",
       "      <td>18.910946</td>\n",
       "    </tr>\n",
       "  </tbody>\n",
       "</table>\n",
       "</div>"
      ],
      "text/plain": [
       "                       variable      value\n",
       "0             per_capita_income   0.000000\n",
       "1             per_capita_income   1.000000\n",
       "2         percent_house_crowded   6.288000\n",
       "3         percent_house_crowded   2.478571\n",
       "4   percent_house_below_poverty  26.780000\n",
       "5   percent_house_below_poverty  12.739286\n",
       "6         percent_16_unemployed  18.810000\n",
       "7         percent_16_unemployed   9.146429\n",
       "8    percent_25_without_diploma  26.092000\n",
       "9    percent_25_without_diploma  10.042857\n",
       "10            percent_dependent  38.834000\n",
       "11            percent_dependent  30.153571\n",
       "12               hardship_index  66.640000\n",
       "13               hardship_index  18.910946"
      ]
     },
     "execution_count": 32,
     "metadata": {},
     "output_type": "execute_result"
    }
   ],
   "source": [
    "ex_grouped_mean.melt() #long range"
   ]
  },
  {
   "cell_type": "code",
   "execution_count": null,
   "id": "7ee37a2f",
   "metadata": {},
   "outputs": [],
   "source": []
  }
 ],
 "metadata": {
  "kernelspec": {
   "display_name": "Python 3 (ipykernel)",
   "language": "python",
   "name": "python3"
  },
  "language_info": {
   "codemirror_mode": {
    "name": "ipython",
    "version": 3
   },
   "file_extension": ".py",
   "mimetype": "text/x-python",
   "name": "python",
   "nbconvert_exporter": "python",
   "pygments_lexer": "ipython3",
   "version": "3.9.12"
  }
 },
 "nbformat": 4,
 "nbformat_minor": 5
}
